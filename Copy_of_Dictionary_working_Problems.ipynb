{
  "nbformat": 4,
  "nbformat_minor": 0,
  "metadata": {
    "colab": {
      "provenance": []
    },
    "kernelspec": {
      "name": "python3",
      "display_name": "Python 3"
    },
    "language_info": {
      "name": "python"
    }
  },
  "cells": [
    {
      "cell_type": "code",
      "execution_count": null,
      "metadata": {
        "id": "Z5AHYyy1awTD",
        "colab": {
          "base_uri": "https://localhost:8080/"
        },
        "outputId": "345445e1-adf0-4ec6-a41a-48a50b807171"
      },
      "outputs": [
        {
          "output_type": "stream",
          "name": "stdout",
          "text": [
            "Enter the number of state details you want to entered3\n",
            "Enter the stateAndhra Pradesh\n",
            "Enter the codeap\n",
            "Enter the stateTamilnadu\n",
            "Enter the codeTn\n",
            "Enter the stateKerala\n",
            "Enter the codekL\n",
            "{'ANDHRA PRADESH': 'AP', 'TAMILNADU': 'TN', 'KERALA': 'KL'}\n",
            "Entet the state to know the codetn\n",
            "TN  state code is not avialble\n"
          ]
        }
      ],
      "source": [
        "'''\n",
        "1. Write a program that has a dictionary of states and their\n",
        "codes. Add another state in the pre-defined dictionary, print\n",
        "all the items in the dictionary and try to print codes\n",
        "for a state that does no exist. Set a default value prior\n",
        "to printing.\n",
        "\n",
        "'''\n",
        "#Write your code\n",
        "n = int(input('Enter the number of state details you want to entered'))\n",
        "l = []\n",
        "for i in range(n):\n",
        "  l.extend([(input('Enter the state').upper(),input('Enter the code').upper())])\n",
        "\n",
        "#([(input,input)])\n",
        "\n",
        "state_dict = dict(l)\n",
        "#print(l,'->',len(l))\n",
        "print(state_dict)\n",
        "\n",
        "temp = input('Entet the state to know the code').upper()\n",
        "\n",
        "if(temp in state_dict):\n",
        "  print(state_dict[temp])\n",
        "else:\n",
        "  print(temp, ' state code is not avialble')\n"
      ]
    },
    {
      "cell_type": "code",
      "source": [
        "'''\n",
        "2. Write a program that creates a dictionary of radius of \n",
        "a cricle and its circumference.\n",
        "'''\n",
        "circum_dict = {x: 2*x*3.14 for x in range(1,10)}\n",
        "print(circum_dict)"
      ],
      "metadata": {
        "id": "cdwL8vLocDak",
        "colab": {
          "base_uri": "https://localhost:8080/"
        },
        "outputId": "b39bfaf9-1a83-49d9-d1b9-cb0c29fbee8b"
      },
      "execution_count": null,
      "outputs": [
        {
          "output_type": "stream",
          "name": "stdout",
          "text": [
            "{1: 6.28, 2: 12.56, 3: 18.84, 4: 25.12, 5: 31.400000000000002, 6: 37.68, 7: 43.96, 8: 50.24, 9: 56.52}\n"
          ]
        }
      ]
    },
    {
      "cell_type": "code",
      "source": [
        "'''\n",
        "3. Write a program that creates two dictionaries. \n",
        "One thatstores conversion value from meters to centimeters and the \n",
        "other that stores values from centimeters to meters.\n",
        "'''\n",
        "centi_meter = {x: x*100 for x in range(10)}\n",
        "meter_centi = {x: x/100 for x in range(10)}\n",
        "print(centi_meter)\n",
        "print(meter_centi)"
      ],
      "metadata": {
        "id": "ludkeYhVcR-H",
        "colab": {
          "base_uri": "https://localhost:8080/"
        },
        "outputId": "ed1578d3-7fc7-44dd-f8af-0c6942c67010"
      },
      "execution_count": null,
      "outputs": [
        {
          "output_type": "stream",
          "name": "stdout",
          "text": [
            "{0: 0, 1: 100, 2: 200, 3: 300, 4: 400, 5: 500, 6: 600, 7: 700, 8: 800, 9: 900}\n",
            "{0: 0.0, 1: 0.01, 2: 0.02, 3: 0.03, 4: 0.04, 5: 0.05, 6: 0.06, 7: 0.07, 8: 0.08, 9: 0.09}\n"
          ]
        }
      ]
    },
    {
      "cell_type": "code",
      "source": [
        "'''\n",
        "4.Write a program that has a set of words in English\n",
        "and thier corresponding words in Hindi.\n",
        "Define another dictionary that has a list of words in Hindi\n",
        "and their corresponding words in telugu.\n",
        "Take all words from English language and display their \n",
        "meanings in both the languages.\n",
        "\n",
        "'''\n",
        "eng_words = []\n",
        "hin_words = []\n",
        "tel_words = []\n",
        "eng_hin_words = []\n",
        "hin_tel_words = []\n",
        "tel_words = []\n",
        "num = int(input('Enter number of words'))\n",
        "for i in range(num):\n",
        "  eng_words.append(input('Enter the english word'))\n",
        "  hin_words.append(input('Enter the Hindi equivalent word'))\n",
        "  tel_words.append(input('Enter the telugu equivalent word'))\n",
        "  eng_hin_words.extend([(eng_words,hin_words)])\n",
        "  hin_tel_words.extend([(hin_words,tel_words)])\n",
        "  \n",
        "print(eng_hin_words)\n",
        "print(hin_tel_words)"
      ],
      "metadata": {
        "id": "gSs6WrGidoEw",
        "colab": {
          "base_uri": "https://localhost:8080/"
        },
        "outputId": "28a1805e-5ff5-4313-aa32-80c047280760"
      },
      "execution_count": null,
      "outputs": [
        {
          "output_type": "stream",
          "name": "stdout",
          "text": [
            "Enter number of words3\n",
            "Enter the english wordBook\n",
            "Enter the Hindi equivalent wordPustak\n",
            "Enter the telugu equivalent wordpustakam\n",
            "Enter the english wordMango\n",
            "Enter the Hindi equivalent wordAAM\n",
            "Enter the telugu equivalent wordMamidikaya\n",
            "Enter the english wordBed\n",
            "Enter the Hindi equivalent wordpalanga\n",
            "Enter the telugu equivalent wordmancham\n",
            "[(['Book', 'Mango', 'Bed'], ['Pustak', 'AAM', 'palanga']), (['Book', 'Mango', 'Bed'], ['Pustak', 'AAM', 'palanga']), (['Book', 'Mango', 'Bed'], ['Pustak', 'AAM', 'palanga'])]\n",
            "[(['Pustak', 'AAM', 'palanga'], ['pustakam', 'Mamidikaya', 'mancham']), (['Pustak', 'AAM', 'palanga'], ['pustakam', 'Mamidikaya', 'mancham']), (['Pustak', 'AAM', 'palanga'], ['pustakam', 'Mamidikaya', 'mancham'])]\n"
          ]
        }
      ]
    },
    {
      "cell_type": "code",
      "source": [
        "'''\n",
        "5. Write a program that caluclates fib(n) using dictionary.\n",
        "'''\n",
        "term = int(input('Enter no of terms'))\n",
        "fib_dict = {}\n",
        "l1 = []\n",
        "for i in range(term):\n",
        "  f1 = 0\n",
        "  f2 = 1\n",
        "  f3 = 0\n",
        "  n = 0\n",
        "  st = []\n",
        "  while n<i+1:\n",
        "    f3 = f1 + f2\n",
        "    #st = st +' '+ str(f1)\n",
        "    st.append(f1)\n",
        "    f1 = f2\n",
        "    f2 = f3\n",
        "    n+=1\n",
        "  l1.extend([(i+1,tuple(st))])\n",
        "\n",
        "fib_dict = dict(l1)\n",
        "\n",
        "print(fib_dict)\n",
        "\n",
        "\n",
        "\n"
      ],
      "metadata": {
        "id": "QcDEwsIwe576",
        "colab": {
          "base_uri": "https://localhost:8080/"
        },
        "outputId": "e7fef121-dd45-4d89-c060-baf13b2a87d8"
      },
      "execution_count": null,
      "outputs": [
        {
          "output_type": "stream",
          "name": "stdout",
          "text": [
            "Enter no of terms10\n",
            "{1: (0,), 2: (0, 1), 3: (0, 1, 1), 4: (0, 1, 1, 2), 5: (0, 1, 1, 2, 3), 6: (0, 1, 1, 2, 3, 5), 7: (0, 1, 1, 2, 3, 5, 8), 8: (0, 1, 1, 2, 3, 5, 8, 13), 9: (0, 1, 1, 2, 3, 5, 8, 13, 21), 10: (0, 1, 1, 2, 3, 5, 8, 13, 21, 34)}\n"
          ]
        }
      ]
    },
    {
      "cell_type": "code",
      "source": [],
      "metadata": {
        "id": "KUHvIp3pJFTL"
      },
      "execution_count": null,
      "outputs": []
    },
    {
      "cell_type": "code",
      "source": [
        "'''\n",
        "6. Write a program that creates a dictionary of cubes of odd\n",
        "numbers in the range 1-100\n",
        "\n",
        "'''\n",
        "cube_dict1 = []\n",
        "for i in range(1,101):\n",
        "  if i %2 != 0:\n",
        "    cube_dict1.extend([(i,i**2)])\n",
        "\n",
        "cube_dict2 = dict(cube_dict1)\n",
        "print('Using for loop')\n",
        "print(cube_dict2)\n",
        "\n",
        "print('Using one liner for loop')\n",
        "cube_dict = {x: x**2 for x in range(1,101) if x%2!= 0}\n",
        "print(cube_dict)"
      ],
      "metadata": {
        "id": "orA70pMmfUtx",
        "colab": {
          "base_uri": "https://localhost:8080/"
        },
        "outputId": "3a7ea78d-87ca-4656-ed96-a379c6ca7368"
      },
      "execution_count": null,
      "outputs": [
        {
          "output_type": "stream",
          "name": "stdout",
          "text": [
            "Using for loop\n",
            "{1: 1, 3: 9, 5: 25, 7: 49, 9: 81, 11: 121, 13: 169, 15: 225, 17: 289, 19: 361, 21: 441, 23: 529, 25: 625, 27: 729, 29: 841, 31: 961, 33: 1089, 35: 1225, 37: 1369, 39: 1521, 41: 1681, 43: 1849, 45: 2025, 47: 2209, 49: 2401, 51: 2601, 53: 2809, 55: 3025, 57: 3249, 59: 3481, 61: 3721, 63: 3969, 65: 4225, 67: 4489, 69: 4761, 71: 5041, 73: 5329, 75: 5625, 77: 5929, 79: 6241, 81: 6561, 83: 6889, 85: 7225, 87: 7569, 89: 7921, 91: 8281, 93: 8649, 95: 9025, 97: 9409, 99: 9801}\n",
            "Using one liner for loop\n",
            "{1: 1, 3: 9, 5: 25, 7: 49, 9: 81, 11: 121, 13: 169, 15: 225, 17: 289, 19: 361, 21: 441, 23: 529, 25: 625, 27: 729, 29: 841, 31: 961, 33: 1089, 35: 1225, 37: 1369, 39: 1521, 41: 1681, 43: 1849, 45: 2025, 47: 2209, 49: 2401, 51: 2601, 53: 2809, 55: 3025, 57: 3249, 59: 3481, 61: 3721, 63: 3969, 65: 4225, 67: 4489, 69: 4761, 71: 5041, 73: 5329, 75: 5625, 77: 5929, 79: 6241, 81: 6561, 83: 6889, 85: 7225, 87: 7569, 89: 7921, 91: 8281, 93: 8649, 95: 9025, 97: 9409, 99: 9801}\n"
          ]
        }
      ]
    },
    {
      "cell_type": "code",
      "source": [
        "'''\n",
        "7. Write a program that prompts the user to enter a message.\n",
        "Now count and print the number of occurrences of \n",
        "each character.\n",
        "'''\n",
        "a=input('Enter a string: ')\n",
        "d=tuple(a)\n",
        "b=[]\n",
        "for i in range(len(d)):\n",
        "  c=d.count(a[i])\n",
        "  b.extend([(a[i],c)])\n",
        "print(dict(b))"
      ],
      "metadata": {
        "id": "s0qtsY8Ofjll",
        "colab": {
          "base_uri": "https://localhost:8080/"
        },
        "outputId": "a94e2115-5508-4160-c0d3-ab1236c92a95"
      },
      "execution_count": null,
      "outputs": [
        {
          "output_type": "stream",
          "name": "stdout",
          "text": [
            "Enter a string: eshwar \n",
            "{'e': 1, 's': 1, 'h': 1, 'w': 1, 'a': 1, 'r': 1, ' ': 1}\n"
          ]
        }
      ]
    },
    {
      "cell_type": "code",
      "source": [
        "'''\n",
        "8.Write a program to store a sparse matrix as a dictionary.\n",
        "'''\n",
        "sparse_matrix = [(0, 1, 2), (0, 3, 5), (1, 2, 1), (2, 0, 4), (2, 3, 7)]\n",
        "sparse_dict = {}\n",
        "for i, j, val in sparse_matrix:\n",
        "    if i not in sparse_dict:\n",
        "        sparse_dict[i] = {}\n",
        "    sparse_dict[i][j] = val\n",
        "\n",
        "\n",
        "print(sparse_dict)\n"
      ],
      "metadata": {
        "id": "ArhuF1ITgI4-",
        "colab": {
          "base_uri": "https://localhost:8080/"
        },
        "outputId": "9cb367d7-0900-4585-b5f7-5699acf5bd7d"
      },
      "execution_count": null,
      "outputs": [
        {
          "output_type": "stream",
          "name": "stdout",
          "text": [
            "{0: {1: 2, 3: 5}, 1: {2: 1}, 2: {0: 4, 3: 7}}\n"
          ]
        }
      ]
    },
    {
      "cell_type": "code",
      "source": [
        "'''\n",
        "9. Write a program that inverts a dictionary i.e. it makes\n",
        "key of one dictionary value of another and vice-versa.\n",
        "'''\n",
        "a=int(input(\"enter the list\"))\n"
      ],
      "metadata": {
        "id": "pEKI0nVnglly"
      },
      "execution_count": null,
      "outputs": []
    },
    {
      "cell_type": "code",
      "source": [
        "'''\n",
        "10. Write a program that has dictionary of names of students\n",
        "and a list of their marks in 4 subjects. Create another \n",
        "dictionary from this dictionary that has names of the\n",
        "students and thier total marks.Find out the topper and\n",
        "student's score.\n",
        "'''"
      ],
      "metadata": {
        "id": "NKyHFMawhB0r"
      },
      "execution_count": null,
      "outputs": []
    },
    {
      "cell_type": "code",
      "source": [
        "'''\n",
        "11. Write a program that print a histogram of frequencies\n",
        "of characters occuring in a message.\n",
        "'''"
      ],
      "metadata": {
        "id": "eU_18lcth6ZW"
      },
      "execution_count": null,
      "outputs": []
    },
    {
      "cell_type": "code",
      "source": [
        "'''\n",
        "12. Write a program to count the numbers of character in the\n",
        "string and store them in dictionary data structure.\n",
        "'''"
      ],
      "metadata": {
        "id": "ywD_gZjGjNYv"
      },
      "execution_count": null,
      "outputs": []
    },
    {
      "cell_type": "code",
      "source": [
        "'''\n",
        "13. Write a program that combines the lists of dictionary.\n",
        "'''"
      ],
      "metadata": {
        "id": "nLaw7HvXj0nD"
      },
      "execution_count": null,
      "outputs": []
    },
    {
      "cell_type": "code",
      "source": [
        "circum = {i: 2*3.14 * i for i in range(1,11)}\n",
        "print(circum)\n",
        "\n",
        "lt = []\n",
        "for i in range(1,11):\n",
        "  lt.extend([(i,2*3.14 * i)])\n",
        "\n",
        "cir_dict = dict(lt)\n",
        "print(cir_dict)"
      ],
      "metadata": {
        "colab": {
          "base_uri": "https://localhost:8080/"
        },
        "id": "3-UJr6eepkuM",
        "outputId": "e483df34-f8ea-403e-f606-2be29bd271b4"
      },
      "execution_count": null,
      "outputs": [
        {
          "output_type": "stream",
          "name": "stdout",
          "text": [
            "{1: 6.28, 2: 12.56, 3: 18.84, 4: 25.12, 5: 31.400000000000002, 6: 37.68, 7: 43.96, 8: 50.24, 9: 56.52, 10: 62.800000000000004}\n",
            "{1: 6.28, 2: 12.56, 3: 18.84, 4: 25.12, 5: 31.400000000000002, 6: 37.68, 7: 43.96, 8: 50.24, 9: 56.52, 10: 62.800000000000004}\n"
          ]
        }
      ]
    }
  ]
}